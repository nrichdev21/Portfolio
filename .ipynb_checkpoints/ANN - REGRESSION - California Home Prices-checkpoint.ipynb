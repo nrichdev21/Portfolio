{
 "cells": [
  {
   "cell_type": "code",
   "execution_count": 1,
   "metadata": {},
   "outputs": [],
   "source": [
    "import pandas as pd\n",
    "import numpy as np\n",
    "%matplotlib inline\n",
    "import matplotlib.pyplot as plt\n",
    "import os, datetime\n",
    "\n",
    "from sklearn.datasets import fetch_california_housing\n",
    "from sklearn.model_selection import train_test_split, RandomizedSearchCV\n",
    "from sklearn.preprocessing import StandardScaler\n",
    "\n",
    "import tensorflow as tf\n",
    "from tensorflow import keras\n",
    "from keras.layers import Dense, Dropout, Flatten\n",
    "from keras.callbacks import EarlyStopping, ModelCheckpoint\n",
    "from keras.wrappers.scikit_learn import KerasRegressor\n",
    "\n",
    "from tensorboard import notebook\n",
    "\n",
    "# Ignore useless warnings (see SciPy issue #5998)\n",
    "import warnings\n",
    "warnings.filterwarnings(action=\"ignore\", message=\"^internal gelsd\")"
   ]
  },
  {
   "cell_type": "markdown",
   "metadata": {},
   "source": [
    "### Insert Housing Data and do some basic exploration"
   ]
  },
  {
   "cell_type": "code",
   "execution_count": 2,
   "metadata": {},
   "outputs": [],
   "source": [
    "ca_housing = fetch_california_housing()"
   ]
  },
  {
   "cell_type": "code",
   "execution_count": 3,
   "metadata": {},
   "outputs": [
    {
     "data": {
      "text/plain": [
       "['MedInc',\n",
       " 'HouseAge',\n",
       " 'AveRooms',\n",
       " 'AveBedrms',\n",
       " 'Population',\n",
       " 'AveOccup',\n",
       " 'Latitude',\n",
       " 'Longitude']"
      ]
     },
     "execution_count": 3,
     "metadata": {},
     "output_type": "execute_result"
    }
   ],
   "source": [
    "ca_housing['feature_names']"
   ]
  },
  {
   "cell_type": "code",
   "execution_count": 4,
   "metadata": {},
   "outputs": [
    {
     "data": {
      "text/plain": [
       "['MedHouseVal']"
      ]
     },
     "execution_count": 4,
     "metadata": {},
     "output_type": "execute_result"
    }
   ],
   "source": [
    "ca_housing['target_names']"
   ]
  },
  {
   "cell_type": "code",
   "execution_count": 5,
   "metadata": {},
   "outputs": [
    {
     "data": {
      "text/plain": [
       "array([[   8.3252    ,   41.        ,    6.98412698, ...,    2.55555556,\n",
       "          37.88      , -122.23      ],\n",
       "       [   8.3014    ,   21.        ,    6.23813708, ...,    2.10984183,\n",
       "          37.86      , -122.22      ],\n",
       "       [   7.2574    ,   52.        ,    8.28813559, ...,    2.80225989,\n",
       "          37.85      , -122.24      ],\n",
       "       ...,\n",
       "       [   1.7       ,   17.        ,    5.20554273, ...,    2.3256351 ,\n",
       "          39.43      , -121.22      ],\n",
       "       [   1.8672    ,   18.        ,    5.32951289, ...,    2.12320917,\n",
       "          39.43      , -121.32      ],\n",
       "       [   2.3886    ,   16.        ,    5.25471698, ...,    2.61698113,\n",
       "          39.37      , -121.24      ]])"
      ]
     },
     "execution_count": 5,
     "metadata": {},
     "output_type": "execute_result"
    }
   ],
   "source": [
    "ca_housing['data']"
   ]
  },
  {
   "cell_type": "code",
   "execution_count": 6,
   "metadata": {},
   "outputs": [
    {
     "data": {
      "text/plain": [
       "array([4.526, 3.585, 3.521, ..., 0.923, 0.847, 0.894])"
      ]
     },
     "execution_count": 6,
     "metadata": {},
     "output_type": "execute_result"
    }
   ],
   "source": [
    "ca_housing['target']"
   ]
  },
  {
   "cell_type": "code",
   "execution_count": 7,
   "metadata": {},
   "outputs": [
    {
     "data": {
      "text/plain": [
       "(20640, 8)"
      ]
     },
     "execution_count": 7,
     "metadata": {},
     "output_type": "execute_result"
    }
   ],
   "source": [
    "ca_housing['data'].shape"
   ]
  },
  {
   "cell_type": "markdown",
   "metadata": {},
   "source": [
    "### Create train, test and validation set and standardize features"
   ]
  },
  {
   "cell_type": "code",
   "execution_count": 8,
   "metadata": {},
   "outputs": [
    {
     "name": "stdout",
     "output_type": "stream",
     "text": [
      "Set Splits:\n",
      "Full Dataset: \t\t(20640, 8)\n",
      "Training Set: \t\t(11610, 8)\n",
      "Test Set: \t\t(5160, 8)\n",
      "Validation Set: \t(3870, 8)\n"
     ]
    }
   ],
   "source": [
    "# Split the data into training and test set\n",
    "X_train_full, X_test, y_train_full, y_test = train_test_split(ca_housing['data'], ca_housing['target'])\n",
    "\n",
    "# Create Validation Set from the training set create above\n",
    "X_train, X_valid, y_train, y_valid = train_test_split(X_train_full,y_train_full)\n",
    "\n",
    "# Show shape of various datsets\n",
    "print(\"Set Splits:\")\n",
    "print(\"Full Dataset: \\t\\t\" + np.str(ca_housing['data'].shape))\n",
    "print(\"Training Set: \\t\\t\" + np.str(X_train.shape))\n",
    "print(\"Test Set: \\t\\t\" + np.str(X_test.shape))\n",
    "print(\"Validation Set: \\t\" +np.str(X_valid.shape))\n",
    "\n",
    "# Scale the feature datasets\n",
    "scaler = StandardScaler()\n",
    "X_train = scaler.fit_transform(X_train)  \n",
    "X_test = scaler.transform(X_test)\n",
    "X_valid = scaler.transform(X_valid)\n",
    "# Why only use fit_transform on training set\n",
    "# https://stackoverflow.com/questions/43675665/when-scale-the-data-why-the-train-dataset-use-fit-and-transform-but-the-te"
   ]
  },
  {
   "cell_type": "markdown",
   "metadata": {},
   "source": [
    "### Baseline Sequential Model"
   ]
  },
  {
   "cell_type": "code",
   "execution_count": 9,
   "metadata": {},
   "outputs": [],
   "source": [
    "# Create baseline model\n",
    "base_model = keras.models.Sequential([\n",
    "    keras.layers.Dense(30, activation='relu', input_shape = X_train.shape[1:]),\n",
    "    keras.layers.Dense(30, activation='relu'),\n",
    "    keras.layers.Dense(1)\n",
    "])\n",
    "\n",
    "# Show baseline model structure\n",
    "keras.utils.plot_model(base_model, \"../dot_models/dense_ca_housing_baseline_dot.png\", show_shapes=True)\n",
    "\n",
    "#Compile base model\n",
    "base_model.compile(loss='mean_squared_error', optimizer = keras.optimizers.SGD(lr=1e-3))\n",
    "\n",
    "# Create checkpoint in case of unexpected interruptions\n",
    "base_cp = ModelCheckpoint(\"../saved_models/dense_ca_housing_baseline.h5\")\n",
    "\n",
    "# Fit baseline model\n",
    "base_model_fitted = base_model.fit(X_train, y_train, epochs=300, validation_data = (X_valid, y_valid),\n",
    "                       callbacks=[EarlyStopping(patience=5, restore_best_weights=True), base_cp], verbose=0)"
   ]
  },
  {
   "cell_type": "code",
   "execution_count": 10,
   "metadata": {},
   "outputs": [
    {
     "data": {
      "image/png": "[encoded data removed]",
      "text/plain": [
       "<Figure size 576x360 with 1 Axes>"
      ]
     },
     "metadata": {
      "needs_background": "light"
     },
     "output_type": "display_data"
    }
   ],
   "source": [
    "# Graph metrics over epochs for baseline model\n",
    "pd.DataFrame(base_model_fitted.history).plot(figsize=(8,5))\n",
    "plt.grid(True)\n",
    "plt.gca().set_ylim(0,1)\n",
    "plt.gca().set_xlim(0)\n",
    "plt.show()"
   ]
  },
  {
   "cell_type": "code",
   "execution_count": 11,
   "metadata": {},
   "outputs": [
    {
     "name": "stdout",
     "output_type": "stream",
     "text": [
      "162/162 [==============================] - 0s 345us/step - loss: 0.3409\n"
     ]
    },
    {
     "data": {
      "text/plain": [
       "array([[3.83577251, 4.058     ],\n",
       "       [1.30134404, 1.558     ],\n",
       "       [1.86808777, 2.467     ],\n",
       "       [1.38710237, 1.905     ],\n",
       "       [0.73899102, 0.758     ],\n",
       "       [1.66732287, 1.974     ],\n",
       "       [3.04213023, 3.825     ],\n",
       "       [3.00562692, 3.815     ],\n",
       "       [2.43704319, 2.142     ],\n",
       "       [2.18264484, 2.719     ]])"
      ]
     },
     "execution_count": 11,
     "metadata": {},
     "output_type": "execute_result"
    }
   ],
   "source": [
    "# Evaluate Model Performance\n",
    "baseline_mse_test = base_model.evaluate(X_test, y_test)\n",
    "\n",
    "# Make some predictions (use existing records for this part)\n",
    "X_new = X_test[:10]\n",
    "y_pred = base_model.predict(X_new)\n",
    "y_xnew = y_test[:10]\n",
    "\n",
    "#Examine predictions and actuals side by side\n",
    "np.concatenate((y_pred.reshape(-1,1),y_xnew.reshape(-1,1)), axis=1)"
   ]
  },
  {
   "cell_type": "markdown",
   "metadata": {},
   "source": [
    "### Wide and Deep Neural Network Model"
   ]
  },
  {
   "cell_type": "code",
   "execution_count": 12,
   "metadata": {},
   "outputs": [],
   "source": [
    "# Code Source: Hands On Machine Learning with Scikit-Learn, Keras, and TensorFlow by Aurelien Geron\n",
    "# Build Layers\n",
    "input_ = keras.layers.Input(shape=X_train.shape[1:])\n",
    "hidden1 = keras.layers.Dense(30, activation=\"relu\")(input_)\n",
    "hidden2 = keras.layers.Dense(30, activation=\"relu\")(hidden1)\n",
    "concat = keras.layers.concatenate([input_, hidden2])\n",
    "output = keras.layers.Dense(1)(concat)\n",
    "wd_model = keras.models.Model(inputs=[input_], outputs=[output])"
   ]
  },
  {
   "cell_type": "code",
   "execution_count": 13,
   "metadata": {},
   "outputs": [
    {
     "data": {
      "image/png": "[encoded data removed]",
      "text/plain": [
       "<IPython.core.display.Image object>"
      ]
     },
     "execution_count": 13,
     "metadata": {},
     "output_type": "execute_result"
    }
   ],
   "source": [
    "keras.utils.plot_model(wd_model, \"../dot_models/CA_Housing_Wide_Deep.png\", show_shapes=True)"
   ]
  },
  {
   "cell_type": "code",
   "execution_count": 14,
   "metadata": {},
   "outputs": [],
   "source": [
    "#Compile wide and deep model\n",
    "wd_model.compile(loss='mean_squared_error', optimizer = keras.optimizers.SGD(lr=0.001))\n",
    "\n",
    "# Create checkpoint in case of unexpected interruptions\n",
    "wd_cp = ModelCheckpoint(\"../saved_models/wd_ca_housing.h5\")\n",
    "\n",
    "# Fit wide and deep\n",
    "wd_model_fitted = wd_model.fit(X_train, y_train, epochs=300, validation_data = (X_valid, y_valid),\n",
    "                       callbacks=[EarlyStopping(patience=5, restore_best_weights=True), base_cp], verbose=0)"
   ]
  },
  {
   "cell_type": "code",
   "execution_count": 15,
   "metadata": {},
   "outputs": [
    {
     "data": {
      "image/png": "[encoded data removed]",
      "text/plain": [
       "<Figure size 576x360 with 1 Axes>"
      ]
     },
     "metadata": {
      "needs_background": "light"
     },
     "output_type": "display_data"
    }
   ],
   "source": [
    "# Graph metrics over epochs for the wide and deep model\n",
    "pd.DataFrame(base_model_fitted.history).plot(figsize=(8,5))\n",
    "plt.grid(True)\n",
    "plt.gca().set_ylim(0,1)\n",
    "plt.gca().set_xlim(0)\n",
    "plt.show()"
   ]
  },
  {
   "cell_type": "code",
   "execution_count": 16,
   "metadata": {},
   "outputs": [
    {
     "name": "stdout",
     "output_type": "stream",
     "text": [
      "162/162 [==============================] - 0s 283us/step - loss: 0.3350\n"
     ]
    },
    {
     "data": {
      "text/plain": [
       "array([[3.87680054, 4.058     ],\n",
       "       [1.37446523, 1.558     ],\n",
       "       [1.82721639, 2.467     ],\n",
       "       [1.54267752, 1.905     ],\n",
       "       [0.8728857 , 0.758     ],\n",
       "       [1.66151226, 1.974     ],\n",
       "       [2.90820718, 3.825     ],\n",
       "       [3.07168341, 3.815     ],\n",
       "       [2.42770767, 2.142     ],\n",
       "       [2.04479885, 2.719     ]])"
      ]
     },
     "execution_count": 16,
     "metadata": {},
     "output_type": "execute_result"
    }
   ],
   "source": [
    "# Evaluate Model Performance\n",
    "wd_mse_test = wd_model.evaluate(X_test, y_test)\n",
    "\n",
    "# Make some predictions (use existing records for this part)\n",
    "X_new = X_test[:10]\n",
    "y_pred = wd_model.predict(X_new)\n",
    "y_xnew = y_test[:10]\n",
    "\n",
    "#Examine predictions and actuals side by side\n",
    "np.concatenate((y_pred.reshape(-1,1),y_xnew.reshape(-1,1)), axis=1)\n",
    "\n",
    "## Baseline Model Performs Better"
   ]
  },
  {
   "cell_type": "markdown",
   "metadata": {},
   "source": [
    "### Visualize with TensorBoard"
   ]
  },
  {
   "cell_type": "code",
   "execution_count": 17,
   "metadata": {},
   "outputs": [
    {
     "data": {
      "text/plain": [
       "Reusing TensorBoard on port 6006 (pid 3956), started 0:29:06 ago. (Use '!kill 3956' to kill it.)"
      ]
     },
     "metadata": {},
     "output_type": "display_data"
    },
    {
     "data": {
      "text/html": [
       "\n",
       "      <iframe id=\"tensorboard-frame-da694497ffac35c4\" width=\"100%\" height=\"800\" frameborder=\"0\">\n",
       "      </iframe>\n",
       "      <script>\n",
       "        (function() {\n",
       "          const frame = document.getElementById(\"tensorboard-frame-da694497ffac35c4\");\n",
       "          const url = new URL(\"/\", window.location);\n",
       "          const port = 6006;\n",
       "          if (port) {\n",
       "            url.port = port;\n",
       "          }\n",
       "          frame.src = url;\n",
       "        })();\n",
       "      </script>\n",
       "    "
      ],
      "text/plain": [
       "<IPython.core.display.HTML object>"
      ]
     },
     "metadata": {},
     "output_type": "display_data"
    }
   ],
   "source": [
    "keras.backend.clear_session()\n",
    "%load_ext tensorboard\n",
    "%tensorboard --logdir=./my_logs --port=6006"
   ]
  },
  {
   "cell_type": "code",
   "execution_count": 18,
   "metadata": {},
   "outputs": [],
   "source": [
    "root_logdir = os.path.join(os.curdir, \"my_logs\")\n",
    "\n",
    "def get_run_logdir():\n",
    "    import time\n",
    "    run_id = time.strftime(\"run_%Y_%m_%d-%H_%M_%S\")\n",
    "    return os.path.join(root_logdir, run_id)"
   ]
  },
  {
   "cell_type": "code",
   "execution_count": 19,
   "metadata": {},
   "outputs": [
    {
     "data": {
      "text/plain": [
       "'.\\\\my_logs\\\\run_2020_11_19-16_44_01'"
      ]
     },
     "execution_count": 19,
     "metadata": {},
     "output_type": "execute_result"
    }
   ],
   "source": [
    "run_logdir = get_run_logdir()\n",
    "run_logdir"
   ]
  },
  {
   "cell_type": "code",
   "execution_count": 20,
   "metadata": {},
   "outputs": [
    {
     "name": "stdout",
     "output_type": "stream",
     "text": [
      "Known TensorBoard instances:\n",
      "  - port 6006: logdir ./my_logs (started 8:11:29 ago; pid 1996)\n",
      "  - port 6006: logdir ./my_logs (started 0:29:06 ago; pid 3956)\n"
     ]
    }
   ],
   "source": [
    "keras.backend.clear_session()\n",
    "notebook.list() # View open TensorBoard instances\n",
    "# del /q %TMP%\\.tensorboard-info\\* in command line to stop instances\n",
    "# notebook.display(port=6006, height=1000)"
   ]
  },
  {
   "cell_type": "code",
   "execution_count": 21,
   "metadata": {},
   "outputs": [
    {
     "name": "stdout",
     "output_type": "stream",
     "text": [
      "WARNING:tensorflow:From c:\\users\\14803\\appdata\\local\\programs\\python\\python38\\lib\\site-packages\\tensorflow\\python\\ops\\summary_ops_v2.py:1277: stop (from tensorflow.python.eager.profiler) is deprecated and will be removed after 2020-07-01.\n",
      "Instructions for updating:\n",
      "use `tf.profiler.experimental.stop` instead.\n",
      "WARNING:tensorflow:Callbacks method `on_train_batch_begin` is slow compared to the batch time (batch time: 0.0010s vs `on_train_batch_begin` time: 0.0050s). Check your callbacks.\n",
      "WARNING:tensorflow:Callbacks method `on_train_batch_end` is slow compared to the batch time (batch time: 0.0010s vs `on_train_batch_end` time: 0.0798s). Check your callbacks.\n"
     ]
    }
   ],
   "source": [
    "### Use the baseline model\n",
    "base_model = keras.models.Sequential([\n",
    "    keras.layers.Dense(30, activation='relu', input_shape = X_train.shape[1:]),\n",
    "    keras.layers.Dense(30, activation='relu'),\n",
    "    keras.layers.Dense(1)\n",
    "])\n",
    "\n",
    "#Compile base model\n",
    "base_model.compile(loss='mean_squared_error', optimizer = keras.optimizers.SGD(lr=0.005))\n",
    "\n",
    "# Create checkpoint in case of unexpected interruptions\n",
    "base_cp_tf = ModelCheckpoint(\"../saved_models/dense_ca_housing_baseline_tb.h5\")\n",
    "\n",
    "# Create the tensorboard callback\n",
    "base_tensorboard = keras.callbacks.TensorBoard(run_logdir)\n",
    "\n",
    "# Fit baseline model\n",
    "base_model_fitted = base_model.fit(X_train, y_train, epochs=300, validation_data = (X_valid, y_valid),\n",
    "                       callbacks=[EarlyStopping(patience=5, restore_best_weights=True), base_cp_tf,\n",
    "                                 base_tensorboard],\n",
    "                                   verbose=0)"
   ]
  },
  {
   "cell_type": "markdown",
   "metadata": {},
   "source": [
    "### Hyperparamter Tuning with Random Search"
   ]
  },
  {
   "cell_type": "code",
   "execution_count": 22,
   "metadata": {},
   "outputs": [],
   "source": [
    "keras.backend.clear_session()"
   ]
  },
  {
   "cell_type": "code",
   "execution_count": 23,
   "metadata": {},
   "outputs": [],
   "source": [
    "def build_model(hidden_layers=1, neurons_per_layer=30, learn_rate=0.001, input_shape=[8]):\n",
    "    \"\"\" Build and compile a model that can be used in grid search \"\"\"\n",
    "    model = keras.models.Sequential()\n",
    "    model.add(keras.layers.InputLayer(input_shape=input_shape))\n",
    "    for layer in range(hidden_layers):\n",
    "        model.add(keras.layers.Dense(neurons_per_layer, activation=\"relu\"))\n",
    "    model.add(keras.layers.Dense(1))\n",
    "    optimizer = keras.optimizers.SGD(lr=learn_rate)\n",
    "    model.compile(loss=\"mse\", optimizer=optimizer)\n",
    "    return model\n",
    "\n",
    "# Create a wrapper for the build model functions\n",
    "keras_reg = KerasRegressor(build_model)"
   ]
  },
  {
   "cell_type": "code",
   "execution_count": 24,
   "metadata": {},
   "outputs": [
    {
     "name": "stdout",
     "output_type": "stream",
     "text": [
      "WARNING:tensorflow:Callbacks method `on_train_batch_begin` is slow compared to the batch time (batch time: 0.0010s vs `on_train_batch_begin` time: 0.0060s). Check your callbacks.\n",
      "WARNING:tensorflow:Callbacks method `on_train_batch_end` is slow compared to the batch time (batch time: 0.0010s vs `on_train_batch_end` time: 0.2623s). Check your callbacks.\n",
      "121/121 [==============================] - 0s 305us/step - loss: 0.3770\n",
      "WARNING:tensorflow:Callbacks method `on_train_batch_begin` is slow compared to the batch time (batch time: 0.0010s vs `on_train_batch_begin` time: 0.0050s). Check your callbacks.\n",
      "WARNING:tensorflow:Callbacks method `on_train_batch_end` is slow compared to the batch time (batch time: 0.0010s vs `on_train_batch_end` time: 0.1676s). Check your callbacks.\n",
      "121/121 [==============================] - 0s 305us/step - loss: 0.3863\n",
      "WARNING:tensorflow:Callbacks method `on_train_batch_begin` is slow compared to the batch time (batch time: 0.0010s vs `on_train_batch_begin` time: 0.0059s). Check your callbacks.\n",
      "WARNING:tensorflow:Callbacks method `on_train_batch_end` is slow compared to the batch time (batch time: 0.0010s vs `on_train_batch_end` time: 0.2713s). Check your callbacks.\n",
      "121/121 [==============================] - 0s 297us/step - loss: 0.3740\n",
      "WARNING:tensorflow:Callbacks method `on_train_batch_begin` is slow compared to the batch time (batch time: 0.0010s vs `on_train_batch_begin` time: 0.0050s). Check your callbacks.\n",
      "WARNING:tensorflow:Callbacks method `on_train_batch_end` is slow compared to the batch time (batch time: 0.0010s vs `on_train_batch_end` time: 0.1616s). Check your callbacks.\n",
      "121/121 [==============================] - 0s 313us/step - loss: 0.3632\n",
      "WARNING:tensorflow:Callbacks method `on_train_batch_begin` is slow compared to the batch time (batch time: 0.0000s vs `on_train_batch_begin` time: 0.0070s). Check your callbacks.\n",
      "WARNING:tensorflow:Callbacks method `on_train_batch_end` is slow compared to the batch time (batch time: 0.0000s vs `on_train_batch_end` time: 0.2643s). Check your callbacks.\n",
      "121/121 [==============================] - 0s 288us/step - loss: 0.3806\n",
      "WARNING:tensorflow:Callbacks method `on_train_batch_begin` is slow compared to the batch time (batch time: 0.0010s vs `on_train_batch_begin` time: 0.0050s). Check your callbacks.\n",
      "WARNING:tensorflow:Callbacks method `on_train_batch_end` is slow compared to the batch time (batch time: 0.0010s vs `on_train_batch_end` time: 0.1446s). Check your callbacks.\n",
      "121/121 [==============================] - 0s 297us/step - loss: 0.3655\n",
      "WARNING:tensorflow:Callbacks method `on_train_batch_begin` is slow compared to the batch time (batch time: 0.0010s vs `on_train_batch_begin` time: 0.0050s). Check your callbacks.\n",
      "WARNING:tensorflow:Callbacks method `on_train_batch_end` is slow compared to the batch time (batch time: 0.0010s vs `on_train_batch_end` time: 0.1336s). Check your callbacks.\n",
      "121/121 [==============================] - 0s 272us/step - loss: 0.5080\n",
      "WARNING:tensorflow:Callbacks method `on_train_batch_begin` is slow compared to the batch time (batch time: 0.0000s vs `on_train_batch_begin` time: 0.0060s). Check your callbacks.\n",
      "WARNING:tensorflow:Callbacks method `on_train_batch_end` is slow compared to the batch time (batch time: 0.0000s vs `on_train_batch_end` time: 0.1267s). Check your callbacks.\n",
      "121/121 [==============================] - 0s 280us/step - loss: 0.5343\n",
      "WARNING:tensorflow:Callbacks method `on_train_batch_begin` is slow compared to the batch time (batch time: 0.0010s vs `on_train_batch_begin` time: 0.0050s). Check your callbacks.\n",
      "WARNING:tensorflow:Callbacks method `on_train_batch_end` is slow compared to the batch time (batch time: 0.0010s vs `on_train_batch_end` time: 0.2284s). Check your callbacks.\n",
      "121/121 [==============================] - 0s 280us/step - loss: 4877.0991\n",
      "WARNING:tensorflow:Callbacks method `on_train_batch_begin` is slow compared to the batch time (batch time: 0.0010s vs `on_train_batch_begin` time: 0.0040s). Check your callbacks.\n",
      "WARNING:tensorflow:Callbacks method `on_train_batch_end` is slow compared to the batch time (batch time: 0.0010s vs `on_train_batch_end` time: 0.1267s). Check your callbacks.\n",
      "121/121 [==============================] - 0s 288us/step - loss: 0.5101\n",
      "WARNING:tensorflow:Callbacks method `on_train_batch_begin` is slow compared to the batch time (batch time: 0.0010s vs `on_train_batch_begin` time: 0.0050s). Check your callbacks.\n",
      "WARNING:tensorflow:Callbacks method `on_train_batch_end` is slow compared to the batch time (batch time: 0.0010s vs `on_train_batch_end` time: 0.2473s). Check your callbacks.\n",
      "121/121 [==============================] - 0s 288us/step - loss: 0.5296\n",
      "WARNING:tensorflow:Callbacks method `on_train_batch_begin` is slow compared to the batch time (batch time: 0.0010s vs `on_train_batch_begin` time: 0.0040s). Check your callbacks.\n",
      "WARNING:tensorflow:Callbacks method `on_train_batch_end` is slow compared to the batch time (batch time: 0.0010s vs `on_train_batch_end` time: 0.1237s). Check your callbacks.\n",
      "121/121 [==============================] - 0s 280us/step - loss: 143.9200\n",
      "WARNING:tensorflow:Callbacks method `on_train_batch_begin` is slow compared to the batch time (batch time: 0.0000s vs `on_train_batch_begin` time: 0.0050s). Check your callbacks.\n",
      "WARNING:tensorflow:Callbacks method `on_train_batch_end` is slow compared to the batch time (batch time: 0.0000s vs `on_train_batch_end` time: 0.2104s). Check your callbacks.\n",
      "121/121 [==============================] - 0s 280us/step - loss: 0.5099\n",
      "WARNING:tensorflow:Callbacks method `on_train_batch_begin` is slow compared to the batch time (batch time: 0.0000s vs `on_train_batch_begin` time: 0.0050s). Check your callbacks.\n",
      "WARNING:tensorflow:Callbacks method `on_train_batch_end` is slow compared to the batch time (batch time: 0.0000s vs `on_train_batch_end` time: 0.1267s). Check your callbacks.\n",
      "121/121 [==============================] - 0s 297us/step - loss: 0.5290\n",
      "WARNING:tensorflow:Callbacks method `on_train_batch_begin` is slow compared to the batch time (batch time: 0.0010s vs `on_train_batch_begin` time: 0.0050s). Check your callbacks.\n",
      "WARNING:tensorflow:Callbacks method `on_train_batch_end` is slow compared to the batch time (batch time: 0.0010s vs `on_train_batch_end` time: 0.1297s). Check your callbacks.\n",
      "121/121 [==============================] - 0s 272us/step - loss: 0.5120\n",
      "WARNING:tensorflow:Callbacks method `on_train_batch_begin` is slow compared to the batch time (batch time: 0.0010s vs `on_train_batch_begin` time: 0.0040s). Check your callbacks.\n",
      "WARNING:tensorflow:Callbacks method `on_train_batch_end` is slow compared to the batch time (batch time: 0.0010s vs `on_train_batch_end` time: 0.1386s). Check your callbacks.\n"
     ]
    },
    {
     "data": {
      "text/plain": [
       "RandomizedSearchCV(cv=3,\n",
       "                   estimator=<tensorflow.python.keras.wrappers.scikit_learn.KerasRegressor object at 0x000001EFD894EDC0>,\n",
       "                   n_iter=5,\n",
       "                   param_distributions={'hidden_layers': [0, 1, 2, 3],\n",
       "                                        'learn_rate': [0.005, 0.001, 0.0025],\n",
       "                                        'neurons_per_layer': [20, 30, 40, 50]})"
      ]
     },
     "execution_count": 24,
     "metadata": {},
     "output_type": "execute_result"
    }
   ],
   "source": [
    "# Create paramters for grid search\n",
    "\n",
    "param_grid = {\n",
    "    \"hidden_layers\": [0, 1, 2, 3],\n",
    "    \"neurons_per_layer\": [20, 30, 40, 50],\n",
    "    \"learn_rate\": [0.005, 0.001, 0.0025],\n",
    "}\n",
    "\n",
    "# Create checkpoint in case of unexpected interruptions\n",
    "gsearch_cp = ModelCheckpoint(\"../saved_models/ca_housing_grid.h5\")\n",
    "\n",
    "# Create the tensorboard callback\n",
    "rs_tensorboard = keras.callbacks.TensorBoard(run_logdir)\n",
    "\n",
    "model_rs = RandomizedSearchCV(keras_reg, param_grid, n_iter=5, cv=3)\n",
    "\n",
    "model_rs.fit(X_train, y_train, epochs=100, validation_data = (X_valid, y_valid),\n",
    "             callbacks=[EarlyStopping(patience=10), rs_tensorboard],\n",
    "            verbose=0)"
   ]
  },
  {
   "cell_type": "code",
   "execution_count": 25,
   "metadata": {},
   "outputs": [
    {
     "data": {
      "text/plain": [
       "{'neurons_per_layer': 40, 'learn_rate': 0.0025, 'hidden_layers': 1}"
      ]
     },
     "execution_count": 25,
     "metadata": {},
     "output_type": "execute_result"
    }
   ],
   "source": [
    "model_rs.best_params_"
   ]
  },
  {
   "cell_type": "code",
   "execution_count": null,
   "metadata": {},
   "outputs": [],
   "source": []
  }
 ],
 "metadata": {
  "kernelspec": {
   "display_name": "Python 3",
   "language": "python",
   "name": "python3"
  },
  "language_info": {
   "codemirror_mode": {
    "name": "ipython",
    "version": 3
   },
   "file_extension": ".py",
   "mimetype": "text/x-python",
   "name": "python",
   "nbconvert_exporter": "python",
   "pygments_lexer": "ipython3",
   "version": "3.8.5"
  }
 },
 "nbformat": 4,
 "nbformat_minor": 4
}
